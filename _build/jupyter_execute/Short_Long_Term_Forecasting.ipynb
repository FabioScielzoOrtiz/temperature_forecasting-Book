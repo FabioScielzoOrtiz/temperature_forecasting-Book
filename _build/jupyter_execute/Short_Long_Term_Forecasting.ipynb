{
 "cells": [
  {
   "cell_type": "markdown",
   "metadata": {},
   "source": [
    "# **Short-Long Term Forecasting Approaches**\n"
   ]
  },
  {
   "cell_type": "markdown",
   "metadata": {},
   "source": [
    "**Notebook under construction: future improvements of the project.**"
   ]
  },
  {
   "cell_type": "markdown",
   "metadata": {},
   "source": [
    "\n",
    "Here we have been looking for the best model the predict weather variables 15 days in a forecasting period of 15 days, but the best model in this scenario could not be the best forecasting the next day, or nex two days, or next five days. Would be interesting to find the best model for a short term forecasting period (let say 1-5 days) and the best for a long term period (6-15 days, for instance).\n",
    "\n",
    " We have incorporate the param score_window in the KFold_score_time_series function to perform this last suggested task"
   ]
  },
  {
   "cell_type": "code",
   "execution_count": null,
   "metadata": {
    "vscode": {
     "languageId": "plaintext"
    }
   },
   "outputs": [],
   "source": [
    "estimator = LinearRegressionTS()\n",
    "series_name = 'T'\n",
    "lag=20\n",
    "X=X_train_sk[series_name][lag]\n",
    "y=Y_train_sk[series_name][lag]\n",
    "\n",
    "score_1 = KFold_score_time_series(estimator, X, y, n_splits, inner_test_window, scoring=mean_absolute_error, \n",
    "                        framework='PyTS',  \n",
    "                        score_window=None)\n",
    "\n",
    "score_2 = KFold_score_time_series(estimator, X, y, n_splits, inner_test_window, scoring=mean_absolute_error, \n",
    "                        framework='PyTS',  \n",
    "                        score_window=range(6,15))\n",
    "\n",
    "score_3 = KFold_score_time_series(estimator, X, y, n_splits, inner_test_window, scoring=mean_absolute_error, \n",
    "                        framework='PyTS', \n",
    "                        score_window=[0,1,7,14])"
   ]
  },
  {
   "cell_type": "code",
   "execution_count": null,
   "metadata": {
    "vscode": {
     "languageId": "plaintext"
    }
   },
   "outputs": [],
   "source": [
    "# Should be observed differences among these scores\n",
    "print(score_1, score_2, score_3)"
   ]
  },
  {
   "cell_type": "code",
   "execution_count": null,
   "metadata": {
    "vscode": {
     "languageId": "plaintext"
    }
   },
   "outputs": [],
   "source": [
    "estimator = VAR()\n",
    "series_name = 'T'\n",
    "X=X_multi_train\n",
    "y=Y_train_st[series_name]\n",
    "\n",
    "score_1 = KFold_score_time_series(estimator, X, y, n_splits, inner_test_window, scoring=mean_absolute_error, \n",
    "                        framework='PyTS', approach='multiple', level=series_name,\n",
    "                        score_window=None)\n",
    "\n",
    "score_2 = KFold_score_time_series(estimator, X, y, n_splits, inner_test_window, scoring=mean_absolute_error, \n",
    "                        framework='PyTS', approach='multiple', level=series_name,\n",
    "                        score_window=range(6,15))\n",
    "\n",
    "score_3 = KFold_score_time_series(estimator, X, y, n_splits, inner_test_window, scoring=mean_absolute_error, \n",
    "                        framework='PyTS', approach='multiple', level=series_name,\n",
    "                        score_window=[0,1,2,7,14])"
   ]
  },
  {
   "cell_type": "code",
   "execution_count": null,
   "metadata": {
    "vscode": {
     "languageId": "plaintext"
    }
   },
   "outputs": [],
   "source": [
    "# Should be observed differences among these scores\n",
    "print(score_1, score_2, score_3)"
   ]
  },
  {
   "cell_type": "code",
   "execution_count": null,
   "metadata": {
    "vscode": {
     "languageId": "plaintext"
    }
   },
   "outputs": [],
   "source": [
    "estimator = ForecasterAutoreg(regressor=RandomForestRegressor(random_state=123, n_estimators=15), lags=20)\n",
    "series_name = 'T'\n",
    "X=X_train[series_name]\n",
    "y=Y_train[series_name]\n",
    "\n",
    "score_1 = KFold_score_time_series(estimator, X, y, n_splits, inner_test_window, scoring=mean_absolute_error, \n",
    "                        framework='Skforecast',  approach='univariate',\n",
    "                        score_window=None)\n",
    "\n",
    "score_2 = KFold_score_time_series(estimator, X, y, n_splits, inner_test_window, scoring=mean_absolute_error, \n",
    "                        framework='Skforecast',  approach='univariate',\n",
    "                        score_window=range(6,15))\n",
    "\n",
    "score_3 = KFold_score_time_series(estimator, X, y, n_splits, inner_test_window, scoring=mean_absolute_error, \n",
    "                        framework='Skforecast', approach='univariate',\n",
    "                        score_window=[0,1,7,14])"
   ]
  },
  {
   "cell_type": "code",
   "execution_count": null,
   "metadata": {
    "vscode": {
     "languageId": "plaintext"
    }
   },
   "outputs": [],
   "source": [
    "# Should be observed differences among these scores\n",
    "print(score_1, score_2, score_3)"
   ]
  },
  {
   "cell_type": "code",
   "execution_count": null,
   "metadata": {
    "vscode": {
     "languageId": "plaintext"
    }
   },
   "outputs": [],
   "source": [
    "series_name = 'T'\n",
    "estimator = ForecasterAutoregMultiVariate(regressor=RandomForestRegressor(random_state=123, n_estimators=10), \n",
    "                                          lags=20, steps=inner_test_window, level=series_name)   \n",
    "X=X_multi_train\n",
    "y=Y_train[series_name]\n",
    "score_1 = KFold_score_time_series(estimator, X, y, n_splits, inner_test_window, scoring=mean_absolute_error, \n",
    "                        framework='Skforecast',  approach='multivariate',\n",
    "                        score_window=None)\n",
    "\n",
    "score_2 = KFold_score_time_series(estimator, X, y, n_splits, inner_test_window, scoring=mean_absolute_error, \n",
    "                        framework='Skforecast',  approach='multivariate',\n",
    "                        score_window=range(6,15))\n",
    "\n",
    "score_3 = KFold_score_time_series(estimator, X, y, n_splits, inner_test_window, scoring=mean_absolute_error, \n",
    "                        framework='Skforecast', approach='multivariate',\n",
    "                        score_window=[0,1,7,14])"
   ]
  },
  {
   "cell_type": "code",
   "execution_count": null,
   "metadata": {
    "vscode": {
     "languageId": "plaintext"
    }
   },
   "outputs": [],
   "source": [
    "# Should be observed differences among these scores\n",
    "print(score_1, score_2, score_3)"
   ]
  },
  {
   "cell_type": "code",
   "execution_count": null,
   "metadata": {
    "vscode": {
     "languageId": "plaintext"
    }
   },
   "outputs": [],
   "source": [
    "series_name = 'T'\n",
    "estimator = ForecasterAutoregMultiSeries(regressor=RandomForestRegressor(random_state=123, n_estimators=10), lags=20)                                    \n",
    "X=X_multi_train\n",
    "y=Y_train[series_name]\n",
    "\n",
    "score_1 = KFold_score_time_series(estimator, X, y, n_splits, inner_test_window, scoring=mean_absolute_error, \n",
    "                        framework='Skforecast',  approach='multiple', level=series_name,\n",
    "                        score_window=None)\n",
    "\n",
    "score_2 = KFold_score_time_series(estimator, X, y, n_splits, inner_test_window, scoring=mean_absolute_error, \n",
    "                        framework='Skforecast',  approach='multiple', level=series_name,\n",
    "                        score_window=range(6,15))\n",
    "\n",
    "score_3 = KFold_score_time_series(estimator, X, y, n_splits, inner_test_window, scoring=mean_absolute_error, \n",
    "                        framework='Skforecast', approach='multiple', level=series_name,\n",
    "                        score_window=[0,1,7,14])"
   ]
  },
  {
   "cell_type": "code",
   "execution_count": null,
   "metadata": {
    "vscode": {
     "languageId": "plaintext"
    }
   },
   "outputs": [],
   "source": [
    "# Should be observed differences among these scores\n",
    "print(score_1, score_2, score_3)"
   ]
  }
 ],
 "metadata": {
  "language_info": {
   "name": "python"
  }
 },
 "nbformat": 4,
 "nbformat_minor": 2
}